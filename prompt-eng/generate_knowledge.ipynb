{
 "cells": [
  {
   "cell_type": "code",
   "execution_count": 1,
   "metadata": {},
   "outputs": [
    {
     "name": "stdout",
     "output_type": "stream",
     "text": [
      "{'model': 'llama3.2:latest', 'prompt': '\\nGEN AI NEXUS is an advanced Study Companion AI that synthesizes knowledge to explain complex concepts clearly.\\n\\nTask: Given the following question, generate a structured and insightful explanation based on existing scientific knowledge.\\n\\nQ: Explain how neural networks are inspired by the human brain.\\n\\nSteps:\\n1. Identify the fundamental principles involved.\\n2. Explain the connections between these principles in simple terms.\\n3. Provide a real-world example to illustrate the concept.\\n4. Offer a concise conclusion that summarizes the key takeaway.\\n\\nProvide a response following this structured format.\\n', 'stream': False, 'options': {'temperature': 1.0, 'num_ctx': 100, 'num_predict': 300}}\n",
      "**The Connection between Neural Networks and Human Brain Function**\n",
      "\n",
      "**Explanation of Key Principles:**\n",
      "\n",
      "1. **Neural Networks**: A complex network of interconnected nodes or \"neurons\" that process information through a series of electrical and chemical signals.\n",
      "2. **Synaptic Plasticity**: The ability of neurons to strengthen or weaken their connections with each other, allowing for learning and memory.\n",
      "3. **Pattern Recognition**: The human brain's ability to recognize patterns in data, enabling tasks such as object recognition and decision-making.\n",
      "\n",
      "These concepts form the foundation of deep learning algorithms, which use artificial neural networks to learn from large datasets and improve their performance over time.\n",
      "\n",
      "**Code Example:**\n",
      "```python\n",
      "import numpy as np\n",
      "\n",
      "# Define a simple neural network with one hidden layer\n",
      "class NeuralNetwork:\n",
      "    def __init__(self, input_size, output_size, hidden_size):\n",
      "        self.weights1 = np.random.rand(input_size, hidden_size)\n",
      "        self.weights2 = np.random.rand(hidden_size, output_size)\n",
      "        self.bias1 = np.zeros((1, hidden_size))\n",
      "        self.bias2 = np.zeros((1, output_size))\n",
      "\n",
      "    def forward_pass(self, inputs):\n",
      "        outputs = tf.matmul(inputs, self.weights1) + self.bias1\n",
      "        outputs = tf.relu(outputs)\n",
      "        outputs = tf.matmul(outputs, self.weights2) + self.bias2\n",
      "        return outputs\n",
      "\n",
      "model = nn.Module()\n",
      "model.fc = nn.Linear(784, 128)\n",
      "model.fc.apply(weights_init\n",
      "Time taken: 30.618s\n"
     ]
    }
   ],
   "source": [
    "##\n",
    "## GENERATE KNOWLEDGE PROMPTING - GEN AI NEXUS\n",
    "##\n",
    "\n",
    "from _pipeline import create_payload, model_req\n",
    "\n",
    "#### (1) Adjust the inbounding Prompt, simulating inbounding requests from users or other systems\n",
    "MESSAGE = \"Explain how neural networks are inspired by the human brain.\"\n",
    "\n",
    "#### (2) Adjust the Prompt Engineering Technique to be applied, simulating Workflow Templates\n",
    "\n",
    "GENERATE_KNOWLEDGE_PROMPT = \\\n",
    "f\"\"\"\n",
    "GEN AI NEXUS is an advanced Study Companion AI that synthesizes knowledge to explain complex concepts clearly.\n",
    "\n",
    "Task: Given the following question, generate a structured and insightful explanation based on existing scientific knowledge.\n",
    "\n",
    "Q: {MESSAGE}\n",
    "\n",
    "Steps:\n",
    "1. Identify the fundamental principles involved.\n",
    "2. Explain the connections between these principles in simple terms.\n",
    "3. Provide a real-world example to illustrate the concept.\n",
    "4. Offer a concise conclusion that summarizes the key takeaway.\n",
    "\n",
    "Provide a response following this structured format.\n",
    "\"\"\"\n",
    "\n",
    "PROMPT = GENERATE_KNOWLEDGE_PROMPT \n",
    "\n",
    "#### (3) Configure the Model request, simulating Workflow Orchestration\n",
    "payload = create_payload(target=\"ollama\",\n",
    "                         model=\"llama3.2:latest\", \n",
    "                         prompt=PROMPT, \n",
    "                         temperature=1.0, \n",
    "                         num_ctx=100, \n",
    "                         num_predict=300)\n",
    "\n",
    "### YOU DONT NEED TO CONFIGURE ANYTHING ELSE FROM THIS POINT\n",
    "time, response = model_req(payload=payload)\n",
    "print(response)\n",
    "if time: print(f'Time taken: {time}s')"
   ]
  }
 ],
 "metadata": {
  "kernelspec": {
   "display_name": "Python 3",
   "language": "python",
   "name": "python3"
  },
  "language_info": {
   "codemirror_mode": {
    "name": "ipython",
    "version": 3
   },
   "file_extension": ".py",
   "mimetype": "text/x-python",
   "name": "python",
   "nbconvert_exporter": "python",
   "pygments_lexer": "ipython3",
   "version": "3.13.1"
  }
 },
 "nbformat": 4,
 "nbformat_minor": 2
}
