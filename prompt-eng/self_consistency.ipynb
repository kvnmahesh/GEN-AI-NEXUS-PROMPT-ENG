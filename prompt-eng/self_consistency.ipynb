{
 "cells": [
  {
   "cell_type": "markdown",
   "metadata": {},
   "source": [
    "\n",
    "\n"
   ]
  },
  {
   "cell_type": "markdown",
   "metadata": {},
   "source": [
    "# Self Consistency Prompting\n",
    "\n",
    "One of the more advanced techniques in prompt engineering is self-consistency, introduced by `Wang et al. (2022)`. \n",
    "\n",
    "This method seeks to improve upon the traditional greedy decoding typically used in chain-of-thought (CoT) prompting. \n",
    "\n",
    "The core concept involves sampling multiple diverse reasoning paths through few-shot CoT and leveraging these variations to determine the most consistent answer. The technique  enhances the effectiveness of CoT prompting, particularly for tasks requiring arithmetic and commonsense reasoning.\n",
    "\n",
    "## References:\n",
    "* [Wang et al. (2022)](https://arxiv.org/abs/2203.11171)"
   ]
  },
  {
   "cell_type": "markdown",
   "metadata": {},
   "source": [
    "## Running this code on MyBind.org\n",
    "\n",
    "Note: remember that you will need to **adjust CONFIG** with **proper URL and API_KEY**!\n",
    "\n",
    "[![Binder](https://mybinder.org/badge_logo.svg)](https://mybinder.org/v2/gh/GenILab-FAU/prompt-eng/HEAD?urlpath=%2Fdoc%2Ftree%2Fprompt-eng%2Fself_consistency.ipynb)\n",
    "\n"
   ]
  },
  {
   "cell_type": "code",
   "execution_count": 2,
   "metadata": {},
   "outputs": [
    {
     "name": "stdout",
     "output_type": "stream",
     "text": [
      "{'model': 'llama3.2:latest', 'prompt': '\\nGEN AI NEXUS is a highly intelligent Study Companion AI that ensures self-consistent, well-validated answers. Answer the following question multiple times using different reasoning approaches to validate the response.\\n\\nQ: What are the benefits of active recall in studying?\\n\\nApproach 1: Explain the concept based on cognitive science principles.\\nApproach 2: Describe its application in real-world learning scenarios.\\nApproach 3: Compare it with other study techniques like passive reading.\\nApproach 4: Provide a brief conclusion summarizing all perspectives.\\n\\nGenerate multiple responses, analyze consistency, and return the most reliable final answer.\\n', 'stream': False, 'options': {'temperature': 1.0, 'num_ctx': 100, 'num_predict': 300}}\n",
      "**Response 1**\n",
      "\n",
      "Passive reading is often confused with passive learning. Passive reading involves reading material without actively engaging with it, whereas passive learning occurs when we simply memorize information without truly understanding or applying it. On the other hand, active learning, which includes both learning and retaining information, involves a more direct approach to mastering new concepts.\n",
      "\n",
      "While passive reading can be useful for gathering initial knowledge or background information, relying solely on this method can lead to shallow understanding and poor retention of material.\n",
      "\n",
      "Active learning is characterized by engagement, where learners actively participate in the learning process through activities such as solving problems, completing projects, participating in discussions, and taking notes. Active learning enhances learner outcomes in terms of retention rates, achievement, transfer, communication, collaboration, and satisfaction.\n",
      "\n",
      "Here are some key characteristics of active learning:\n",
      "\n",
      "1\\.  \\*\\*Learner Engagement\\*\\*: Learners actively participate in the learning process, often through hands-on activities and self-directed work.\n",
      "\n",
      "2\\.  \\*\\*Clear Goals\\*\\*: Clear expectations for what learners will accomplish during the course or activity.\n",
      "\n",
      "3\\.  \\*\\*Relevant Content\\*\\*: The content is relevant to learners' lives and interests, making it more engaging.\n",
      "\n",
      "4\\.  \\*\\*Assessment Opportunities\\*\\*: Regular opportunities for assessment and feedback help learners track their progress and stay motivated.\n",
      "\n",
      "5\\.  \\*\\*Flexibility\\*\\*: Offering flexibility in terms of format, pace, and content allows learners to better\n",
      "Time taken: 26.544s\n"
     ]
    }
   ],
   "source": [
    "##\n",
    "## SELF-CONSISTENCY PROMPTING - GEN AI NEXUS\n",
    "##\n",
    "\n",
    "from _pipeline import create_payload, model_req\n",
    "\n",
    "#### (1) Adjust the inbounding Prompt, simulating inbounding requests from users or other systems\n",
    "MESSAGE = \"What are the benefits of active recall in studying?\"\n",
    "\n",
    "#### (2) Adjust the Prompt Engineering Technique to be applied, simulating Workflow Templates\n",
    "\n",
    "SELF_CONSISTENCY_PROMPT = \\\n",
    "f\"\"\"\n",
    "GEN AI NEXUS is a highly intelligent Study Companion AI that ensures self-consistent, well-validated answers. Answer the following question multiple times using different reasoning approaches to validate the response.\n",
    "\n",
    "Q: {MESSAGE}\n",
    "\n",
    "Approach 1: Explain the concept based on cognitive science principles.\n",
    "Approach 2: Describe its application in real-world learning scenarios.\n",
    "Approach 3: Compare it with other study techniques like passive reading.\n",
    "Approach 4: Provide a brief conclusion summarizing all perspectives.\n",
    "\n",
    "Generate multiple responses, analyze consistency, and return the most reliable final answer.\n",
    "\"\"\"\n",
    "\n",
    "PROMPT = SELF_CONSISTENCY_PROMPT \n",
    "\n",
    "#### (3) Configure the Model request, simulating Workflow Orchestration\n",
    "payload = create_payload(target=\"ollama\",\n",
    "                         model=\"llama3.2:latest\", \n",
    "                         prompt=PROMPT, \n",
    "                         temperature=1.0, \n",
    "                         num_ctx=100, \n",
    "                         num_predict=300)\n",
    "\n",
    "### YOU DONT NEED TO CONFIGURE ANYTHING ELSE FROM THIS POINT\n",
    "time, response = model_req(payload=payload)\n",
    "print(response)\n",
    "if time: print(f'Time taken: {time}s')\n"
   ]
  }
 ],
 "metadata": {
  "kernelspec": {
   "display_name": "Python 3",
   "language": "python",
   "name": "python3"
  },
  "language_info": {
   "codemirror_mode": {
    "name": "ipython",
    "version": 3
   },
   "file_extension": ".py",
   "mimetype": "text/x-python",
   "name": "python",
   "nbconvert_exporter": "python",
   "pygments_lexer": "ipython3",
   "version": "3.13.1"
  }
 },
 "nbformat": 4,
 "nbformat_minor": 2
}
