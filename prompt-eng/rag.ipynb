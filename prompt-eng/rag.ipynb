{
 "cells": [
  {
   "cell_type": "code",
   "execution_count": 1,
   "metadata": {},
   "outputs": [
    {
     "name": "stdout",
     "output_type": "stream",
     "text": [
      "{'model': 'llama3.2:latest', 'prompt': '\\nGEN AI NEXUS is a Study Companion AI that retrieves the latest academic knowledge before answering.\\n\\nStep 1: Search recent academic papers, news articles, and research publications related to \"What are the latest advancements in quantum computing?\".\\nStep 2: Summarize the most relevant and up-to-date information.\\nStep 3: Generate a well-structured response integrating both retrieved and existing knowledge.\\n\\nPerform this process before generating the final answer.\\n', 'stream': False, 'options': {'temperature': 1.0, 'num_ctx': 100, 'num_predict': 300}}\n",
      "I'll perform the process you specified to provide an accurate and informative answer.\n",
      "\n",
      "**Step 1: Retrieving information**\n",
      "\n",
      "After conducting a search, I've gathered the following relevant and up-to-date information:\n",
      "\n",
      "* According to recent research, advancements in renewable energy technologies are becoming increasingly efficient and cost-effective.\n",
      "* The global renewable energy market is expected to continue growing, driven by government policies, technological innovations, and increasing consumer demand for sustainable energy solutions.\n",
      "* Key players in the renewable energy sector include established companies with significant investments in wind, solar, hydro, and geothermal energy.\n",
      "\n",
      "Example sentences:\n",
      "\n",
      "* The company's focus on sustainability has led to increased investment in renewable energy technologies. \n",
      "* As part of its commitment to reducing carbon emissions, the business is exploring opportunities for expansion into new markets.\n",
      "* New data released today reveals a significant increase in demand for wind energy solutions across Europe.\n",
      "Time taken: 17.917s\n"
     ]
    }
   ],
   "source": [
    "##\n",
    "## RETRIEVAL-AUGMENTED GENERATION (RAG) - GEN AI NEXUS\n",
    "##\n",
    "\n",
    "from _pipeline import create_payload, model_req\n",
    "\n",
    "#### (1) Adjust the inbounding Prompt, simulating inbounding requests from users or other systems\n",
    "MESSAGE = \"What are the latest advancements in quantum computing?\"\n",
    "\n",
    "#### (2) Simulating knowledge retrieval from external sources\n",
    "\n",
    "KNOWLEDGE_RETRIEVAL_PROMPT = \\\n",
    "f\"\"\"\n",
    "GEN AI NEXUS is a Study Companion AI that retrieves the latest academic knowledge before answering.\n",
    "\n",
    "Step 1: Search recent academic papers, news articles, and research publications related to \"{MESSAGE}\".\n",
    "Step 2: Summarize the most relevant and up-to-date information.\n",
    "Step 3: Generate a well-structured response integrating both retrieved and existing knowledge.\n",
    "\n",
    "Perform this process before generating the final answer.\n",
    "\"\"\"\n",
    "\n",
    "PROMPT = KNOWLEDGE_RETRIEVAL_PROMPT \n",
    "\n",
    "#### (3) Configure the Model request, simulating Workflow Orchestration\n",
    "payload = create_payload(target=\"ollama\",\n",
    "                         model=\"llama3.2:latest\", \n",
    "                         prompt=PROMPT, \n",
    "                         temperature=1.0, \n",
    "                         num_ctx=100, \n",
    "                         num_predict=300)\n",
    "\n",
    "### YOU DONT NEED TO CONFIGURE ANYTHING ELSE FROM THIS POINT\n",
    "time, response = model_req(payload=payload)\n",
    "print(response)\n",
    "if time: print(f'Time taken: {time}s')\n"
   ]
  }
 ],
 "metadata": {
  "kernelspec": {
   "display_name": "Python 3",
   "language": "python",
   "name": "python3"
  },
  "language_info": {
   "codemirror_mode": {
    "name": "ipython",
    "version": 3
   },
   "file_extension": ".py",
   "mimetype": "text/x-python",
   "name": "python",
   "nbconvert_exporter": "python",
   "pygments_lexer": "ipython3",
   "version": "3.13.1"
  }
 },
 "nbformat": 4,
 "nbformat_minor": 2
}
