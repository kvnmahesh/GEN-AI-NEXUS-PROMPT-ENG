{
 "cells": [
  {
   "cell_type": "code",
   "execution_count": 6,
   "metadata": {},
   "outputs": [
    {
     "name": "stdout",
     "output_type": "stream",
     "text": [
      "{'model': 'llama3.2:latest', 'prompt': \"\\nGEN AI NEXUS: Before answering, assess the student’s familiarity with the topic.\\n\\nQ: Explain Newton's laws of motion.\\nFollow-up: On a scale from 1-5, how confident are you with this topic?\\n\", 'stream': False, 'options': {'temperature': 1.0, 'num_ctx': 100, 'num_predict': 100}}\n",
      "I'd be happy to explain Newton's laws of motion and assess your confidence level!\n",
      "\n",
      "Newton's laws of motion are three fundamental principles that describe the relationship between a body and the forces acting upon it. The laws were formulated by Sir Isaac Newton in the late 17th century.\n",
      "\n",
      "**Law 1: The Law of Inertia**\n",
      "\n",
      "The law states that an object at rest will remain at rest, and an object in motion will continue to move with a constant velocity, unless acted upon by an external\n",
      "{'model': 'llama3.2:latest', 'prompt': 'Go deep into the mathematical derivation and advanced applications of Newton’s laws.', 'stream': False, 'options': {'temperature': 1.0, 'num_ctx': 100, 'num_predict': 200}}\n",
      "Newton's laws, first formulated by Sir Isaac Newton in the late 17th century, are a fundamental set of principles that describe the relationship between a body and the forces acting upon it. The three laws of motion are:\n",
      "\n",
      "1. The First Law (Law of Inertia): An object at rest will remain at rest, and an object in motion will continue to move with a constant velocity, unless acted upon by an external force.\n",
      "2. The Second Law: The force applied to an object is equal to the mass of the object multiplied by its acceleration.\n",
      "3. Newton's Third Law: For every action, there is an equal and opposite reaction.\n",
      "\n",
      "These three laws, formulated by Sir Isaac Newton in the late 17th century, have had a profound impact on our understanding of motion, forces, and energy, shaping many fields including physics, engineering, astronomy, and technology.\n"
     ]
    }
   ],
   "source": [
    "##\n",
    "## PROMPT CHAINING - GEN AI NEXUS\n",
    "##\n",
    "\n",
    "from _pipeline import create_payload, model_req\n",
    "\n",
    "#### (1) First prompt: Understanding the student’s knowledge level\n",
    "INITIAL_PROMPT = \\\n",
    "\"\"\"\n",
    "GEN AI NEXUS: Before answering, assess the student’s familiarity with the topic.\n",
    "\n",
    "Q: Explain Newton's laws of motion.\n",
    "Follow-up: On a scale from 1-5, how confident are you with this topic?\n",
    "\"\"\"\n",
    "\n",
    "payload = create_payload(target=\"ollama\",\n",
    "                         model=\"llama3.2:latest\", \n",
    "                         prompt=INITIAL_PROMPT, \n",
    "                         temperature=1.0, \n",
    "                         num_ctx=100, \n",
    "                         num_predict=100)\n",
    "\n",
    "time, response = model_req(payload=payload)\n",
    "print(response)\n",
    "\n",
    "#### (2) Second prompt: Adjust response complexity based on student feedback\n",
    "STUDENT_CONFIDENCE = response.strip()  # Simulated response (1-5 scale)\n",
    "\n",
    "if STUDENT_CONFIDENCE in [\"1\", \"2\"]:\n",
    "    FOLLOW_UP_PROMPT = \"Explain Newton’s laws in the simplest terms with basic real-world examples.\"\n",
    "elif STUDENT_CONFIDENCE in [\"3\", \"4\"]:\n",
    "    FOLLOW_UP_PROMPT = \"Provide a detailed breakdown of Newton’s laws with relevant case studies.\"\n",
    "else:\n",
    "    FOLLOW_UP_PROMPT = \"Go deep into the mathematical derivation and advanced applications of Newton’s laws.\"\n",
    "\n",
    "payload = create_payload(target=\"ollama\",\n",
    "                         model=\"llama3.2:latest\", \n",
    "                         prompt=FOLLOW_UP_PROMPT, \n",
    "                         temperature=1.0, \n",
    "                         num_ctx=100, \n",
    "                         num_predict=200)\n",
    "\n",
    "time, response = model_req(payload=payload)\n",
    "print(response)\n"
   ]
  }
 ],
 "metadata": {
  "kernelspec": {
   "display_name": "Python 3",
   "language": "python",
   "name": "python3"
  },
  "language_info": {
   "codemirror_mode": {
    "name": "ipython",
    "version": 3
   },
   "file_extension": ".py",
   "mimetype": "text/x-python",
   "name": "python",
   "nbconvert_exporter": "python",
   "pygments_lexer": "ipython3",
   "version": "3.13.1"
  }
 },
 "nbformat": 4,
 "nbformat_minor": 2
}
