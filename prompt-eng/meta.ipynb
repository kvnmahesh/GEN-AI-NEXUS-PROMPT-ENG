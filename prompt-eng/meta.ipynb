{
 "cells": [
  {
   "cell_type": "markdown",
   "metadata": {},
   "source": [
    "\n",
    "\n"
   ]
  },
  {
   "cell_type": "markdown",
   "metadata": {},
   "source": [
    "# Meta Prompting\n",
    "\n",
    "Meta prompting is an advanced technique in prompt engineering that emphasizes the structural and syntactical organization of tasks and problems rather than focusing on their specific content. The objective is to create a more abstract, form-driven way of engaging with large language models (LLMs), highlighting patterns and structure over traditional content-focused methods.\n",
    "\n",
    "As outlined by [Zhang et al. (2024)](https://arxiv.org/abs/2311.11482), the defining features of meta prompting include:\n",
    "\n",
    "* Structure-Oriented: Prioritizes the organization and pattern of problems and solutions instead of specific content.\n",
    "* Syntax-Guided: Leverages syntax as a template to shape the expected responses or solutions.\n",
    "* Abstract Frameworks: Uses abstract examples as blueprints, demonstrating the structure of tasks without relying on concrete details.\n",
    "* Domain Versatility: Can be applied across multiple fields, offering structured solutions to diverse problem types.\n",
    "* Categorical Approach: Draws on type theory to organize and categorize components logically, enhancing prompt coherence and precision."
   ]
  },
  {
   "cell_type": "markdown",
   "metadata": {},
   "source": [
    "## Running this code on MyBind.org\n",
    "\n",
    "Note: remember that you will need to **adjust CONFIG** with **proper URL and API_KEY**!\n",
    "\n",
    "[![Binder](https://mybinder.org/badge_logo.svg)](https://mybinder.org/v2/gh/GenILab-FAU/prompt-eng/HEAD?urlpath=%2Fdoc%2Ftree%2Fprompt-eng%2Fmeta.ipynb)\n",
    "\n"
   ]
  },
  {
   "cell_type": "code",
   "execution_count": 2,
   "metadata": {},
   "outputs": [
    {
     "name": "stdout",
     "output_type": "stream",
     "text": [
      "{'model': 'llama3.2:latest', 'prompt': '\\nYou are an expert in prompt engineering. Your task is to generate an optimized prompt for GEN AI NEXUS, an advanced Study Companion AI that assists students in learning effectively.\\n\\nThe generated prompt should:\\n1. Encourage adaptive learning based on user performance.\\n2. Support multiple subjects and provide subject-specific guidance.\\n3. Include interactive learning techniques such as quizzes, flashcards, and study planners.\\n4. Offer motivation and focus tools, such as Pomodoro timers and daily study goals.\\n5. Personalize responses based on the user’s learning history.\\n6. Provide references to high-quality study resources.\\n7. Enable real-time student engagement with interactive Q&A and contextual tutoring.\\n\\nUser Request: Generate an optimized prompt for GEN AI NEXUS, a study companion bot that helps students with personalized learning.\\n\\nNow generate a structured, optimized prompt that meets the above criteria.\\n', 'stream': False, 'options': {'temperature': 1.0, 'num_ctx': 100, 'num_predict': 300}}\n",
      "Here is a structured, optimized prompt for GEN AI NEXUS:\n",
      "\n",
      "**Prompt Structure:**\n",
      "\n",
      "1. Introduction and Context\n",
      "2. Specific Learning Area or Topic (with optional detail)\n",
      "3. Request for Personalized Assistance\n",
      "4. Desired Outcome or Goal\n",
      "\n",
      "**Sample Prompt:**\n",
      "\n",
      "\"Hi GEN AI NEXUS, I'm a high school student currently taking AP Biology class and I'm struggling to understand the concept of cellular respiration in depth. Can you help me create a diagram that explains how cells generate energy from glucose? Specifically, I'd like to know what is happening to the byproducts of glycolysis, and how mitochondria fit into this process. Additionally, could you summarize the main findings of the Warburg effect and its significance for our understanding of cellular respiration?\"\n",
      "\n",
      "## Step 1: Understand the key concepts\n",
      "The problem involves explaining a complex biochemical process - cellular respiration, specifically focusing on glycolysis, the Warburg effect, and their significance in understanding how cells generate energy.\n",
      "\n",
      "## Step 2: Explain glycolysis\n",
      "Glycolysis is the first step in cellular respiration. It's a metabolic pathway that converts glucose into pyruvate, producing energy for the cell. This process does not require oxygen (anaerobic) but produces less ATP compared to oxidative phosphorylation.\n",
      "\n",
      "## Step 3: Explain the Warburg effect\n",
      "The Warburg effect is a phenomenon observed in cancer cells where they preferentially use glycolysis for energy\n",
      "Time taken: 24.292s\n"
     ]
    }
   ],
   "source": [
    "##\n",
    "## META PROMPTING - GEN AI NEXUS (Study Companion Bot)\n",
    "##\n",
    "\n",
    "from _pipeline import create_payload, model_req\n",
    "\n",
    "#### (1) Adjust the inbounding Prompt, simulating inbounding requests from users or other systems\n",
    "MESSAGE = \"Generate an optimized prompt for GEN AI NEXUS, a study companion bot that helps students with personalized learning.\"\n",
    "\n",
    "#### (2) Adjust the Prompt Engineering Technique to be applied, simulating Workflow Templates\n",
    "\n",
    "META_PROMPT = \\\n",
    "f\"\"\"\n",
    "You are an expert in prompt engineering. Your task is to generate an optimized prompt for GEN AI NEXUS, an advanced Study Companion AI that assists students in learning effectively.\n",
    "\n",
    "The generated prompt should:\n",
    "1. Encourage adaptive learning based on user performance.\n",
    "2. Support multiple subjects and provide subject-specific guidance.\n",
    "3. Include interactive learning techniques such as quizzes, flashcards, and study planners.\n",
    "4. Offer motivation and focus tools, such as Pomodoro timers and daily study goals.\n",
    "5. Personalize responses based on the user’s learning history.\n",
    "6. Provide references to high-quality study resources.\n",
    "7. Enable real-time student engagement with interactive Q&A and contextual tutoring.\n",
    "\n",
    "User Request: {MESSAGE}\n",
    "\n",
    "Now generate a structured, optimized prompt that meets the above criteria.\n",
    "\"\"\"\n",
    "\n",
    "PROMPT = META_PROMPT \n",
    "\n",
    "#### (3) Configure the Model request, simulating Workflow Orchestration\n",
    "# Documentation: https://github.com/ollama/ollama/blob/main/docs/api.md\n",
    "payload = create_payload(target=\"ollama\",\n",
    "                         model=\"llama3.2:latest\", \n",
    "                         prompt=PROMPT, \n",
    "                         temperature=1.0, \n",
    "                         num_ctx=100, \n",
    "                         num_predict=300)\n",
    "\n",
    "### YOU DONT NEED TO CONFIGURE ANYTHING ELSE FROM THIS POINT\n",
    "# Send out to the model\n",
    "time, response = model_req(payload=payload)\n",
    "print(response)\n",
    "if time: print(f'Time taken: {time}s')\n",
    "\n"
   ]
  }
 ],
 "metadata": {
  "kernelspec": {
   "display_name": "Python 3",
   "language": "python",
   "name": "python3"
  },
  "language_info": {
   "codemirror_mode": {
    "name": "ipython",
    "version": 3
   },
   "file_extension": ".py",
   "mimetype": "text/x-python",
   "name": "python",
   "nbconvert_exporter": "python",
   "pygments_lexer": "ipython3",
   "version": "3.13.1"
  }
 },
 "nbformat": 4,
 "nbformat_minor": 2
}
