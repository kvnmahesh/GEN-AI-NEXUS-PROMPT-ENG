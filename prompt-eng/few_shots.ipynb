{
 "cells": [
  {
   "cell_type": "markdown",
   "metadata": {},
   "source": [
    "\n",
    "\n"
   ]
  },
  {
   "cell_type": "markdown",
   "metadata": {},
   "source": [
    "# Few-Shots Prompting\n",
    "\n",
    "Few-shot prompting can be used as a technique to enable in-context learning where we provide demonstrations in the prompt to steer the model to better performance. The demonstrations serve as conditioning for subsequent examples where we would like the model to generate a response.\n",
    "\n",
    "## References:\n",
    "* [Touvron et al. 2023](https://arxiv.org/pdf/2302.13971.pdf): present few shot properties  when models were scaled to a sufficient size\n",
    "* [Kaplan et al., 2020](https://arxiv.org/abs/2001.08361)\n",
    "* [Brown et al. 2020](https://arxiv.org/abs/2005.14165)\n"
   ]
  },
  {
   "cell_type": "markdown",
   "metadata": {},
   "source": [
    "## Running this code on MyBind.org\n",
    "\n",
    "Note: remember that you will need to **adjust CONFIG** with **proper URL and API_KEY**!\n",
    "\n",
    "[![Binder](https://mybinder.org/badge_logo.svg)](https://mybinder.org/v2/gh/GenILab-FAU/prompt-eng/HEAD?urlpath=%2Fdoc%2Ftree%2Fprompt-eng%2Ffew_shots.ipynb)\n",
    "\n"
   ]
  },
  {
   "cell_type": "code",
   "execution_count": null,
   "metadata": {},
   "outputs": [
    {
     "name": "stdout",
     "output_type": "stream",
     "text": [
      "{'model': 'llama3.2:latest', 'prompt': '\\nExample 1:\\nQ: What are the requirements for a personalized tutoring chatbot?\\nA:\\n1. Subject-Specific Q&A: Provide accurate and concise answers to academic questions.\\n2. Concept Explanations: Simplify complex topics into easy-to-understand explanations.\\n3. Study Tips & Techniques: Offer tailored study strategies based on user preferences.\\n4. Interactive Quizzes: Conduct quick assessments to reinforce learning.\\n5. Resource Recommendations: Suggest relevant books, articles, and videos for further study.\\n6. User Context Tracking: Maintain conversation history to personalize tutoring responses.\\n\\nExample 2:\\nQ: What are the requirements for a study companion bot?\\nA:\\n1. Adaptive Learning: Personalize study sessions based on user strengths and weaknesses.\\n2. Study Planner: Help students create and track study schedules with reminders.\\n3. Smart Flashcards: Generate and test users with AI-powered flashcards.\\n4. Interactive Quizzes & Exams: Provide mock tests and practice questions with feedback.\\n5. Multi-Subject Support: Cover a range of academic disciplines with structured content.\\n6. Focus Mode: Offer Pomodoro timers and productivity techniques to enhance concentration.\\n7. Motivation & Guidance: Provide study motivation, daily learning goals, and AI-generated summaries.\\n8. Progress Tracking: Monitor learning history and suggest areas for improvement.\\n9. Collaborative Learning: Enable group study sessions and discussions with AI assistance.\\n10. Resource Aggregation: Fetch relevant articles, videos, and textbooks for additional learning support.\\n', 'stream': False, 'options': {'temperature': 1.0, 'num_ctx': 100, 'num_predict': 100}}\n",
      "Here are some potential features that could be developed based on the provided list:\n",
      "\n",
      "**Feature 1: Personalized Study Plans**\n",
      "\n",
      "* Users can input their goals, schedule, and learning style to receive tailored study plans\n",
      "* The system suggests topics to cover and resources to utilize based on individual needs\n",
      "\n",
      "**Feature 2: Adaptive Learning Algorithm**\n",
      "\n",
      "* The platform uses AI to adjust difficulty level based on user performance\n",
      "* The algorithm identifies knowledge gaps and provides targeted feedback to improve understanding\n",
      "\n",
      "**Feature 3\n",
      "Time taken: 11.416s\n"
     ]
    }
   ],
   "source": [
    "##\n",
    "## FEW SHOT PROMPTING - Study Companion Bot Requirements\n",
    "##\n",
    "\n",
    "from _pipeline import create_payload, model_req\n",
    "\n",
    "#### (1) Adjust the inbounding Prompt, simulating inbounding requests from users or other systems\n",
    "MESSAGE = \"What are the requirements for GEN AI NEXUS a study companion bot?\"\n",
    "\n",
    "#### (2) Adjust the Prompt Engineering Technique to be applied, simulating Workflow Templates\n",
    "FEWSHOT_PROMPT = \\\n",
    "f\"\"\"\n",
    "Example 1:\n",
    "Q: What are the requirements for a personalized tutoring chatbot?\n",
    "A:\n",
    "1. Subject-Specific Q&A: Provide accurate and concise answers to academic questions.\n",
    "2. Concept Explanations: Simplify complex topics into easy-to-understand explanations.\n",
    "3. Study Tips & Techniques: Offer tailored study strategies based on user preferences.\n",
    "4. Interactive Quizzes: Conduct quick assessments to reinforce learning.\n",
    "5. Resource Recommendations: Suggest relevant books, articles, and videos for further study.\n",
    "6. User Context Tracking: Maintain conversation history to personalize tutoring responses.\n",
    "\n",
    "Example 2:\n",
    "Q: What are the requirements for a study companion bot?\n",
    "A:\n",
    "1. Adaptive Learning: Personalize study sessions based on user strengths and weaknesses.\n",
    "2. Study Planner: Help students create and track study schedules with reminders.\n",
    "3. Smart Flashcards: Generate and test users with AI-powered flashcards.\n",
    "4. Interactive Quizzes & Exams: Provide mock tests and practice questions with feedback.\n",
    "5. Multi-Subject Support: Cover a range of academic disciplines with structured content.\n",
    "6. Focus Mode: Offer Pomodoro timers and productivity techniques to enhance concentration.\n",
    "7. Motivation & Guidance: Provide study motivation, daily learning goals, and AI-generated summaries.\n",
    "8. Progress Tracking: Monitor learning history and suggest areas for improvement.\n",
    "9. Collaborative Learning: Enable group study sessions and discussions with AI assistance.\n",
    "10. Resource Aggregation: Fetch relevant articles, videos, and textbooks for additional learning support.\n",
    "\"\"\"\n",
    "\n",
    "PROMPT = FEWSHOT_PROMPT \n",
    "\n",
    "#### (3) Configure the Model request, simulating Workflow Orchestration\n",
    "# Documentation: https://github.com/ollama/ollama/blob/main/docs/api.md\n",
    "payload = create_payload(target=\"ollama\",\n",
    "                         model=\"llama3.2:latest\", \n",
    "                         prompt=PROMPT, \n",
    "                         temperature=1.0, \n",
    "                         num_ctx=100, \n",
    "                         num_predict=100)\n",
    "\n",
    "### YOU DONT NEED TO CONFIGURE ANYTHING ELSE FROM THIS POINT\n",
    "# Send out to the model\n",
    "time, response = model_req(payload=payload)\n",
    "print(response)\n",
    "if time: print(f'Time taken: {time}s')\n",
    "\n"
   ]
  },
  {
   "cell_type": "markdown",
   "metadata": {},
   "source": [
    "## How to improve it?\n",
    "\n",
    "Following the findings from [Min et al. (2022)](https://arxiv.org/abs/2202.12837), here are a few more tips about demonstrations/exemplars when doing few-shot:\n",
    "\n",
    "* \"the label space and the distribution of the input text specified by the demonstrations are both important (regardless of whether the labels are correct for individual inputs)\"\n",
    "* the format you use also plays a key role in performance, even if you just use random labels, this is much better than no labels at all.\n",
    "* additional results show that selecting random labels from a true distribution of labels (instead of a uniform distribution) also helps."
   ]
  }
 ],
 "metadata": {
  "kernelspec": {
   "display_name": "Python 3",
   "language": "python",
   "name": "python3"
  },
  "language_info": {
   "codemirror_mode": {
    "name": "ipython",
    "version": 3
   },
   "file_extension": ".py",
   "mimetype": "text/x-python",
   "name": "python",
   "nbconvert_exporter": "python",
   "pygments_lexer": "ipython3",
   "version": "3.13.1"
  }
 },
 "nbformat": 4,
 "nbformat_minor": 2
}
